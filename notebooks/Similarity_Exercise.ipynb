{
 "cells": [
  {
   "cell_type": "markdown",
   "id": "a5632797-0363-42d8-a43c-2f982988d942",
   "metadata": {},
   "source": [
    "## Similarity Exercise"
   ]
  },
  {
   "cell_type": "code",
   "execution_count": 1,
   "id": "b25a562e-838d-4bed-ae52-ec12552b2406",
   "metadata": {},
   "outputs": [],
   "source": [
    "import pandas as pd\n",
    "import numpy as np\n",
    "\n",
    "from sklearn.feature_extraction.text import CountVectorizer, TfidfVectorizer\n",
    "from sklearn.metrics.pairwise import cosine_similarity\n",
    "from sklearn.preprocessing import normalize\n",
    "\n",
    "from sentence_transformers import SentenceTransformer\n",
    "import faiss"
   ]
  },
  {
   "cell_type": "markdown",
   "id": "1c7165c2-90ea-4381-9d3d-edf5c2e1a784",
   "metadata": {},
   "source": [
    "In this exercise, you've been provided the title and abstract of 500 recent machine learning research papers posted on arXiv.org."
   ]
  },
  {
   "cell_type": "code",
   "execution_count": 2,
   "id": "5d7a796d-eaef-4e97-b787-b4bf5811c73b",
   "metadata": {},
   "outputs": [
    {
     "data": {
      "text/html": [
       "<div>\n",
       "<style scoped>\n",
       "    .dataframe tbody tr th:only-of-type {\n",
       "        vertical-align: middle;\n",
       "    }\n",
       "\n",
       "    .dataframe tbody tr th {\n",
       "        vertical-align: top;\n",
       "    }\n",
       "\n",
       "    .dataframe thead th {\n",
       "        text-align: right;\n",
       "    }\n",
       "</style>\n",
       "<table border=\"1\" class=\"dataframe\">\n",
       "  <thead>\n",
       "    <tr style=\"text-align: right;\">\n",
       "      <th></th>\n",
       "      <th>title</th>\n",
       "      <th>abstract</th>\n",
       "      <th>url</th>\n",
       "    </tr>\n",
       "  </thead>\n",
       "  <tbody>\n",
       "    <tr>\n",
       "      <th>0</th>\n",
       "      <td>GoT-R1: Unleashing Reasoning Capability of MLL...</td>\n",
       "      <td>Visual generation models have made remarkable ...</td>\n",
       "      <td>http://arxiv.org/abs/2505.17022v1</td>\n",
       "    </tr>\n",
       "    <tr>\n",
       "      <th>1</th>\n",
       "      <td>Delving into RL for Image Generation with CoT:...</td>\n",
       "      <td>Recent advancements underscore the significant...</td>\n",
       "      <td>http://arxiv.org/abs/2505.17017v1</td>\n",
       "    </tr>\n",
       "    <tr>\n",
       "      <th>2</th>\n",
       "      <td>Interactive Post-Training for Vision-Language-...</td>\n",
       "      <td>We introduce RIPT-VLA, a simple and scalable r...</td>\n",
       "      <td>http://arxiv.org/abs/2505.17016v1</td>\n",
       "    </tr>\n",
       "    <tr>\n",
       "      <th>3</th>\n",
       "      <td>When Are Concepts Erased From Diffusion Models?</td>\n",
       "      <td>Concept erasure, the ability to selectively pr...</td>\n",
       "      <td>http://arxiv.org/abs/2505.17013v1</td>\n",
       "    </tr>\n",
       "    <tr>\n",
       "      <th>4</th>\n",
       "      <td>Understanding Prompt Tuning and In-Context Lea...</td>\n",
       "      <td>Prompting is one of the main ways to adapt a p...</td>\n",
       "      <td>http://arxiv.org/abs/2505.17010v1</td>\n",
       "    </tr>\n",
       "  </tbody>\n",
       "</table>\n",
       "</div>"
      ],
      "text/plain": [
       "                                               title  \\\n",
       "0  GoT-R1: Unleashing Reasoning Capability of MLL...   \n",
       "1  Delving into RL for Image Generation with CoT:...   \n",
       "2  Interactive Post-Training for Vision-Language-...   \n",
       "3    When Are Concepts Erased From Diffusion Models?   \n",
       "4  Understanding Prompt Tuning and In-Context Lea...   \n",
       "\n",
       "                                            abstract  \\\n",
       "0  Visual generation models have made remarkable ...   \n",
       "1  Recent advancements underscore the significant...   \n",
       "2  We introduce RIPT-VLA, a simple and scalable r...   \n",
       "3  Concept erasure, the ability to selectively pr...   \n",
       "4  Prompting is one of the main ways to adapt a p...   \n",
       "\n",
       "                                 url  \n",
       "0  http://arxiv.org/abs/2505.17022v1  \n",
       "1  http://arxiv.org/abs/2505.17017v1  \n",
       "2  http://arxiv.org/abs/2505.17016v1  \n",
       "3  http://arxiv.org/abs/2505.17013v1  \n",
       "4  http://arxiv.org/abs/2505.17010v1  "
      ]
     },
     "execution_count": 2,
     "metadata": {},
     "output_type": "execute_result"
    }
   ],
   "source": [
    "articles = pd.read_csv('../data/arxiv_papers.csv')\n",
    "articles.head()"
   ]
  },
  {
   "cell_type": "code",
   "execution_count": 3,
   "id": "65e6836f-5f36-4b60-b21b-b9cbf7e5ac06",
   "metadata": {},
   "outputs": [
    {
     "name": "stdout",
     "output_type": "stream",
     "text": [
      "Title: GoT-R1: Unleashing Reasoning Capability of MLLM for Visual Generation with Reinforcement Learning\n",
      "\n",
      "Text: Visual generation models have made remarkable progress in creating realistic\n",
      "images from text prompts, yet struggle with complex prompts that specify\n",
      "multiple objects with precise spatial relationships and attributes. Effective\n",
      "handling of such prompts requires explicit reasoning about the semantic content\n",
      "and spatial layout. We present GoT-R1, a framework that applies reinforcement\n",
      "learning to enhance semantic-spatial reasoning in visual generation. Building\n",
      "upon the Generation Chain-of-Thought approach, GoT-R1 enables models to\n",
      "autonomously discover effective reasoning strategies beyond predefined\n",
      "templates through carefully designed reinforcement learning. To achieve this,\n",
      "we propose a dual-stage multi-dimensional reward framework that leverages MLLMs\n",
      "to evaluate both the reasoning process and final output, enabling effective\n",
      "supervision across the entire generation pipeline. The reward system assesses\n",
      "semantic alignment, spatial accuracy, and visual quality in a unified approach.\n",
      "Experimental results demonstrate significant improvements on T2I-CompBench\n",
      "benchmark, particularly in compositional tasks involving precise spatial\n",
      "relationships and attribute binding. GoT-R1 advances the state-of-the-art in\n",
      "image generation by successfully transferring sophisticated reasoning\n",
      "capabilities to the visual generation domain. To facilitate future research, we\n",
      "make our code and pretrained models publicly available at\n",
      "https://github.com/gogoduan/GoT-R1.\n"
     ]
    }
   ],
   "source": [
    "i = 0\n",
    "print(f'Title: {articles.loc[i,\"title\"]}\\n')\n",
    "print(f'Text: {articles.loc[i,\"abstract\"]}')"
   ]
  },
  {
   "cell_type": "markdown",
   "id": "4ee63919-08d4-400b-bb35-3e9f1b70088a",
   "metadata": {},
   "source": [
    "Let's try out a variety of ways of vectorizing and searching for semantically-similar papers."
   ]
  },
  {
   "cell_type": "markdown",
   "id": "32294485-637d-4b77-9a9d-2badcdfeb6dd",
   "metadata": {},
   "source": [
    "### Method 1: Bag of Words"
   ]
  },
  {
   "cell_type": "markdown",
   "id": "7b788ee0-3070-4704-be92-8c442ff4c6d9",
   "metadata": {},
   "source": [
    "Fit a CountVectorizer to the abstracts of the articles with all of the defaults.  Then vectorize the dataset using the fit vectorizer. "
   ]
  },
  {
   "cell_type": "code",
   "execution_count": 4,
   "id": "7c4cc272-474c-4b48-9e77-5a80cb13534d",
   "metadata": {},
   "outputs": [
    {
     "name": "stdout",
     "output_type": "stream",
     "text": [
      "Feature names: ['00' '000' '0009' ... 'zoom' 'zurich' 'zzaudio']\n"
     ]
    }
   ],
   "source": [
    "vectorizer = CountVectorizer()\n",
    "vectorizer.fit(articles['abstract'])\n",
    "X = vectorizer.transform(articles['abstract'])\n",
    "\n",
    "print(\"Feature names:\", vectorizer.get_feature_names_out())"
   ]
  },
  {
   "cell_type": "markdown",
   "id": "7a2ee08b-50fa-468c-9655-47b110fa855b",
   "metadata": {},
   "source": [
    "**Question:** How many dimensions do the embeddings have?"
   ]
  },
  {
   "cell_type": "code",
   "execution_count": 5,
   "id": "03208e89-aa86-4daa-bbd8-5952cfe2df2f",
   "metadata": {},
   "outputs": [
    {
     "name": "stdout",
     "output_type": "stream",
     "text": [
      "Number of dimensions (vocabulary size): 7978\n"
     ]
    }
   ],
   "source": [
    "num_dimensions = len(vectorizer.get_feature_names_out())\n",
    "print(\"Number of dimensions (vocabulary size):\", num_dimensions)\n"
   ]
  },
  {
   "attachments": {},
   "cell_type": "markdown",
   "id": "eecfe606-937c-409e-823a-745fe380d407",
   "metadata": {},
   "source": [
    "Now, let's use the embeddings to look for similar articles to a search query.\n",
    "\n",
    "Apply the vectorizer you fit earlier to this query string to get an embedding. \n",
    "\n",
    "**Hint:** You can't pass a string to a vectorizer, but you can pass a list containing a string."
   ]
  },
  {
   "cell_type": "code",
   "execution_count": 6,
   "id": "3f38271b-eb14-4619-8f00-604bcf9bbdda",
   "metadata": {},
   "outputs": [
    {
     "name": "stdout",
     "output_type": "stream",
     "text": [
      "<Compressed Sparse Row sparse matrix of dtype 'int64'\n",
      "\twith 6 stored elements and shape (1, 7978)>\n",
      "  Coords\tValues\n",
      "  (0, 767)\t1\n",
      "  (0, 1851)\t1\n",
      "  (0, 2958)\t1\n",
      "  (0, 3139)\t1\n",
      "  (0, 6176)\t1\n",
      "  (0, 7723)\t1\n"
     ]
    }
   ],
   "source": [
    "query = \"vector databases for retrieval augmented generation\"\n",
    "\n",
    "query_vector = vectorizer.transform([query])\n",
    "\n",
    "print(query_vector)"
   ]
  },
  {
   "cell_type": "markdown",
   "id": "09f2c931-5dcd-49b7-aa8f-b5bdab82a541",
   "metadata": {},
   "source": [
    "Now, we need to find the similarity between our query embedding and each vectorized article.\n",
    "\n",
    "For this, you can use the [cosine similarity function from scikit-learn.](https://scikit-learn.org/stable/modules/generated/sklearn.metrics.pairwise.cosine_similarity.html)\n",
    "\n",
    "Calculate the similarity between the query embedding and each article embedding and save the result to a variable named `similarity_scores`."
   ]
  },
  {
   "cell_type": "code",
   "execution_count": 7,
   "id": "0f558bfc-426f-4940-bebd-ce48398e48f8",
   "metadata": {},
   "outputs": [
    {
     "name": "stdout",
     "output_type": "stream",
     "text": [
      "Similarity scores: [0.11020775 0.08461622 0.01780047 0.04145133 0.03806935 0.0814463\n",
      " 0.06593805 0.03782347 0.         0.07059312 0.03462717 0.07968191\n",
      " 0.03857584 0.020646   0.03197647 0.01893206 0.04279605 0.03979361\n",
      " 0.05059374 0.01539738 0.01800706 0.0184995  0.03533326 0.\n",
      " 0.01879115 0.03510393 0.12309149 0.         0.04543109 0.09829464\n",
      " 0.10193473 0.062177   0.02197935 0.11200358 0.05493732 0.04188539\n",
      " 0.03503922 0.06100889 0.09866713 0.07699905 0.02475369 0.03209979\n",
      " 0.05309942 0.11826248 0.         0.02207554 0.0402259  0.09707137\n",
      " 0.06233787 0.06225728 0.05412659 0.06384424 0.         0.\n",
      " 0.01944039 0.1214167  0.0285133  0.09924856 0.         0.\n",
      " 0.         0.06944891 0.07385489 0.0285831  0.06463956 0.02733833\n",
      " 0.03914801 0.0955637  0.0843274  0.02810497 0.04072315 0.05878964\n",
      " 0.05236631 0.09014453 0.03219948 0.0549235  0.03083865 0.01631688\n",
      " 0.05990423 0.05402118 0.01885115 0.01747141 0.0209427  0.18057878\n",
      " 0.06085806 0.07938842 0.0417756  0.         0.05858749 0.05255883\n",
      " 0.07161149 0.02919786 0.05304959 0.0513327  0.02541643 0.10031397\n",
      " 0.02191592 0.04421577 0.         0.         0.0556846  0.04941662\n",
      " 0.01563263 0.04625798 0.         0.04227659 0.05412659 0.09673017\n",
      " 0.02303878 0.         0.         0.03497487 0.06912516 0.\n",
      " 0.06012036 0.         0.         0.05940885 0.03883678 0.01769981\n",
      " 0.06868028 0.         0.04828045 0.02169815 0.05055063 0.1067521\n",
      " 0.06889728 0.08943542 0.06102782 0.04087596 0.10499013 0.01640888\n",
      " 0.06291092 0.11377602 0.06956083 0.01966463 0.03314057 0.04814969\n",
      " 0.03232541 0.06666667 0.         0.05673521 0.         0.\n",
      " 0.01971041 0.03510393 0.06752237 0.04752932 0.0429735  0.02598937\n",
      " 0.06128514 0.01825742 0.         0.03333333 0.04774553 0.102706\n",
      " 0.         0.04871774 0.         0.         0.0673435  0.06617222\n",
      " 0.04729838 0.0496904  0.         0.04235869 0.05926956 0.02503131\n",
      " 0.01840525 0.04351941 0.13315591 0.02204334 0.09996002 0.\n",
      " 0.0246183  0.12445669 0.         0.03149704 0.02154652 0.02452926\n",
      " 0.08478078 0.10526899 0.02965649 0.03015799 0.04571503 0.08956222\n",
      " 0.05907962 0.07053456 0.0210538  0.         0.03673592 0.06752237\n",
      " 0.02837522 0.04389513 0.09712859 0.05012547 0.07322913 0.05450043\n",
      " 0.         0.02448511 0.05208145 0.02938635 0.02892179 0.02803861\n",
      " 0.06613001 0.03577136 0.0522233  0.03640578 0.02844401 0.10107974\n",
      " 0.05969041 0.05555556 0.11009638 0.0421076  0.0513327  0.07179582\n",
      " 0.07617845 0.05460867 0.1148288  0.02207554 0.         0.06094276\n",
      " 0.07280353 0.04841229 0.13545709 0.06846532 0.02257618 0.04345773\n",
      " 0.02793994 0.04959864 0.05773503 0.02056725 0.0285831  0.13977654\n",
      " 0.02435405 0.         0.07094757 0.01823919 0.07238115 0.\n",
      " 0.02069901 0.04062222 0.03145027 0.03766218 0.02629758 0.06804138\n",
      " 0.         0.08043618 0.06428243 0.09707137 0.04300661 0.03573708\n",
      " 0.         0.04145133 0.08986064 0.03209979 0.         0.\n",
      " 0.02879561 0.26978155 0.04047223 0.03402069 0.08195758 0.\n",
      " 0.12424948 0.03253    0.04622502 0.01642215 0.         0.02182179\n",
      " 0.03553345 0.0469065  0.0381941  0.0855921  0.05572782 0.03936479\n",
      " 0.04652421 0.01903467 0.03786412 0.0854676  0.03597914 0.\n",
      " 0.02686077 0.08861943 0.09787004 0.08206099 0.         0.\n",
      " 0.03112864 0.18926175 0.04494666 0.         0.02326211 0.02041241\n",
      " 0.04467671 0.0410824  0.03422932 0.02663118 0.         0.05073463\n",
      " 0.01499738 0.06956083 0.06642112 0.         0.07216878 0.03001501\n",
      " 0.         0.03308611 0.04228289 0.07303564 0.         0.09449112\n",
      " 0.04291411 0.08948747 0.08688101 0.075521   0.         0.04501491\n",
      " 0.03688556 0.02414023 0.04522156 0.         0.         0.02777778\n",
      " 0.12038585 0.02122382 0.0835512  0.02525784 0.11705751 0.07838618\n",
      " 0.0695048  0.         0.06870054 0.1026654  0.0695048  0.\n",
      " 0.01673655 0.1255618  0.06004806 0.05006262 0.04978268 0.0246183\n",
      " 0.07181896 0.07319251 0.05072375 0.         0.03853286 0.03419928\n",
      " 0.02746175 0.         0.03673592 0.08226901 0.03205029 0.01726706\n",
      " 0.08691546 0.09259855 0.06632365 0.05241424 0.06691496 0.1015453\n",
      " 0.05396871 0.12216944 0.0278423  0.06209703 0.02536731 0.02122382\n",
      " 0.02207554 0.0667161  0.1253201  0.04637389 0.01911798 0.01939646\n",
      " 0.03419928 0.04376881 0.         0.02154652 0.06721661 0.02289343\n",
      " 0.01928792 0.02539184 0.02311251 0.06994974 0.01857594 0.04845016\n",
      " 0.12070114 0.08808607 0.07430376 0.03224968 0.05350323 0.04474374\n",
      " 0.03786412 0.09053575 0.03692325 0.         0.15681251 0.0568191\n",
      " 0.         0.04445542 0.051131   0.09656091 0.05661385 0.03049262\n",
      " 0.09412416 0.07469137 0.07244095 0.03523443 0.10327956 0.105605\n",
      " 0.04062222 0.02296576 0.10953767 0.05330018 0.02353104 0.\n",
      " 0.04037316 0.02318694 0.01959655 0.0381941  0.0315912  0.0515254\n",
      " 0.06390396 0.05063697 0.         0.03101614 0.0174395  0.06622662\n",
      " 0.08134518 0.03955939 0.         0.05246231 0.         0.01502783\n",
      " 0.         0.02285752 0.0433963  0.07977694 0.01857594 0.05174337\n",
      " 0.08204442 0.08226901 0.10779361 0.04026936 0.02834101 0.06063391\n",
      " 0.03258176 0.06963106 0.0135482  0.04233338 0.02240554 0.04682929\n",
      " 0.14079065 0.         0.04792797 0.02681727 0.04370606 0.05741693\n",
      " 0.06201737 0.04402255 0.         0.04370606 0.04786388 0.07345532\n",
      " 0.05488213 0.07902608 0.         0.05969041 0.01676475 0.02872425\n",
      " 0.0860663  0.04593152 0.02566635 0.07407407 0.01907619 0.09072184\n",
      " 0.04082483 0.         0.08432291 0.04752932 0.13148792 0.03870565\n",
      " 0.07872958 0.         0.02879561 0.08725946 0.05270463 0.\n",
      " 0.17057206 0.09365858 0.08703883 0.03969942 0.03577136 0.04092728\n",
      " 0.03560094 0.         0.09517337 0.08417938 0.01922366 0.06207709\n",
      " 0.08290267 0.04205171]\n"
     ]
    }
   ],
   "source": [
    "similarity_scores = cosine_similarity(query_vector, X).flatten()\n",
    "print(\"Similarity scores:\", similarity_scores)"
   ]
  },
  {
   "cell_type": "markdown",
   "id": "1ef6eddc-b0a1-4fd0-8381-797313e2bcaa",
   "metadata": {},
   "source": [
    "Now, we need to find the most similar results. To help with this, we can use the [argsort function from numpy](https://numpy.org/doc/stable/reference/generated/numpy.argsort.html), which will give the indices sorted by value. \n",
    "\n",
    "Use the argsort function to find the indices of the 5 most similar articles. Inspect their titles and abstracts. **Warning:** argsort sorts from smallest to largest."
   ]
  },
  {
   "cell_type": "code",
   "execution_count": 8,
   "id": "9b3dffd0-5992-4879-a207-08dcc74afca1",
   "metadata": {},
   "outputs": [
    {
     "name": "stdout",
     "output_type": "stream",
     "text": [
      "Top 5 article titles:\n",
      "- MIRB: Mathematical Information Retrieval Benchmark\n",
      "- SCENIR: Visual Semantic Clarity through Unsupervised Scene Graph Retrieval\n",
      "- WikiDBGraph: Large-Scale Database Graph of Wikidata for Collaborative Learning\n",
      "- Explaining Neural Networks with Reasons\n",
      "- Scan, Materialize, Simulate: A Generalizable Framework for Physically Grounded Robot Planning\n"
     ]
    }
   ],
   "source": [
    "top_indices = similarity_scores.argsort()[::-1][:5]\n",
    "top_titles = articles.iloc[top_indices]['title']\n",
    "\n",
    "print(\"Top 5 article titles:\")\n",
    "for title in top_titles:\n",
    "    print(\"-\", title)"
   ]
  },
  {
   "cell_type": "markdown",
   "id": "cb94c418-8156-4e76-b41b-26276400a92a",
   "metadata": {},
   "source": [
    "Try using a tfidf vectorizer. How do the results compare?"
   ]
  },
  {
   "cell_type": "code",
   "execution_count": 9,
   "id": "4c5612d4-29a4-4f08-bbeb-efb4ed1f090d",
   "metadata": {},
   "outputs": [
    {
     "name": "stdout",
     "output_type": "stream",
     "text": [
      "Feature names: ['00' '000' '0009' ... 'zoom' 'zurich' 'zzaudio']\n"
     ]
    }
   ],
   "source": [
    "vectorizer = TfidfVectorizer()\n",
    "vectorizer.fit(articles['abstract'])\n",
    "X = vectorizer.transform(articles['abstract'])\n",
    "\n",
    "print(\"Feature names:\", vectorizer.get_feature_names_out())"
   ]
  },
  {
   "cell_type": "code",
   "execution_count": 10,
   "id": "6aa4075c",
   "metadata": {},
   "outputs": [
    {
     "name": "stdout",
     "output_type": "stream",
     "text": [
      "Number of dimensions (vocabulary size): 7978\n"
     ]
    }
   ],
   "source": [
    "num_dimensions = len(vectorizer.get_feature_names_out())\n",
    "print(\"Number of dimensions (vocabulary size):\", num_dimensions)"
   ]
  },
  {
   "cell_type": "code",
   "execution_count": 11,
   "id": "2e93cd0a",
   "metadata": {},
   "outputs": [
    {
     "name": "stdout",
     "output_type": "stream",
     "text": [
      "<Compressed Sparse Row sparse matrix of dtype 'float64'\n",
      "\twith 6 stored elements and shape (1, 7978)>\n",
      "  Coords\tValues\n",
      "  (0, 767)\t0.44599854389252197\n",
      "  (0, 1851)\t0.5463161557306228\n",
      "  (0, 2958)\t0.11415110381868501\n",
      "  (0, 3139)\t0.2920125130744977\n",
      "  (0, 6176)\t0.44599854389252197\n",
      "  (0, 7723)\t0.45321901260219255\n"
     ]
    }
   ],
   "source": [
    "query = \"vector databases for retrieval augmented generation\"\n",
    "\n",
    "query_vector = vectorizer.transform([query])\n",
    "\n",
    "print(query_vector)"
   ]
  },
  {
   "cell_type": "code",
   "execution_count": 12,
   "id": "ab686030",
   "metadata": {},
   "outputs": [
    {
     "name": "stdout",
     "output_type": "stream",
     "text": [
      "Similarity scores: [0.0738423  0.04643354 0.00149363 0.00482652 0.00400722 0.00899285\n",
      " 0.00670455 0.00459842 0.         0.00654712 0.00385468 0.00813586\n",
      " 0.00386085 0.00175744 0.00310723 0.00202475 0.00424814 0.00454675\n",
      " 0.00527572 0.0015219  0.00147971 0.0021455  0.00422946 0.\n",
      " 0.00165823 0.00353547 0.03332313 0.         0.00508913 0.01154996\n",
      " 0.02387566 0.00695964 0.01503263 0.04062112 0.03875465 0.00498018\n",
      " 0.02635126 0.00652603 0.01074876 0.00708426 0.0158414  0.0104277\n",
      " 0.00536147 0.01322956 0.         0.00198226 0.00389958 0.0107171\n",
      " 0.02698612 0.01525687 0.00511446 0.04136264 0.         0.\n",
      " 0.00250439 0.01245716 0.0018523  0.00831975 0.         0.\n",
      " 0.         0.00893754 0.02915913 0.00275528 0.02246997 0.00275477\n",
      " 0.01618404 0.01022199 0.00800934 0.00273123 0.00332047 0.00603277\n",
      " 0.00489083 0.0102186  0.01359262 0.00453633 0.00372204 0.00177125\n",
      " 0.00674237 0.00607998 0.00209091 0.00168125 0.0020232  0.26498602\n",
      " 0.01901256 0.00701427 0.01523753 0.         0.00694431 0.00592098\n",
      " 0.03290247 0.00335361 0.00684923 0.00586659 0.01557229 0.06776409\n",
      " 0.00217921 0.00416628 0.         0.         0.01939354 0.00462953\n",
      " 0.00203052 0.00416206 0.         0.00470691 0.00549013 0.09577246\n",
      " 0.00223414 0.         0.         0.00372027 0.00849166 0.\n",
      " 0.00616983 0.         0.         0.00552909 0.00399938 0.00174685\n",
      " 0.00667613 0.         0.00455959 0.00206112 0.00557228 0.03572005\n",
      " 0.00701361 0.01638068 0.00547386 0.00443992 0.03067463 0.0014373\n",
      " 0.01799288 0.00988593 0.00613709 0.00206518 0.00341017 0.02299285\n",
      " 0.00282149 0.00489614 0.         0.0056162  0.         0.\n",
      " 0.0023837  0.00338878 0.0067486  0.00435401 0.00410608 0.02766918\n",
      " 0.00644643 0.001839   0.         0.00349965 0.00416158 0.00909877\n",
      " 0.         0.00431933 0.         0.         0.00777825 0.00739059\n",
      " 0.00356601 0.00409608 0.         0.00509305 0.00574297 0.00212325\n",
      " 0.00196051 0.00456526 0.12168498 0.00214682 0.0096558  0.\n",
      " 0.00212759 0.02640858 0.         0.00352858 0.00192428 0.0175195\n",
      " 0.00809819 0.03081724 0.00344278 0.00281965 0.00423767 0.02167739\n",
      " 0.00633018 0.00782001 0.00260169 0.         0.01507927 0.02000068\n",
      " 0.00253243 0.00447893 0.00988533 0.00478195 0.00644146 0.00633485\n",
      " 0.         0.00238779 0.00417301 0.00284623 0.00360137 0.00285814\n",
      " 0.01803525 0.00404953 0.00494604 0.00389386 0.00270503 0.10650195\n",
      " 0.00660889 0.00538661 0.01220743 0.025599   0.00459141 0.03472801\n",
      " 0.00948339 0.0052642  0.01201971 0.00248203 0.         0.00633513\n",
      " 0.00880836 0.00588209 0.13569134 0.00619691 0.00227238 0.0033863\n",
      " 0.00303808 0.00504024 0.00683792 0.0020937  0.00262752 0.15562194\n",
      " 0.0022745  0.         0.04030413 0.00150385 0.03216135 0.\n",
      " 0.00163668 0.00394542 0.00252519 0.00345888 0.0026622  0.00679206\n",
      " 0.         0.06677312 0.01911956 0.10006893 0.00508918 0.00388843\n",
      " 0.         0.00406455 0.01060164 0.00302037 0.         0.\n",
      " 0.00287452 0.29961889 0.00442919 0.00360305 0.03880016 0.\n",
      " 0.02078876 0.02134954 0.00440551 0.02894065 0.         0.00244429\n",
      " 0.01267961 0.03634972 0.0034479  0.00878911 0.00562691 0.00554089\n",
      " 0.00366992 0.00258711 0.00392616 0.00953405 0.00311792 0.\n",
      " 0.00232571 0.0095784  0.01216062 0.02591521 0.         0.\n",
      " 0.00240707 0.21030972 0.00382115 0.         0.00197051 0.00228168\n",
      " 0.00445249 0.0041835  0.00303083 0.00275012 0.         0.00467966\n",
      " 0.0017262  0.00610693 0.00617898 0.         0.00697517 0.00351627\n",
      " 0.         0.00355871 0.00517368 0.00807151 0.         0.01531486\n",
      " 0.00435969 0.00836781 0.01947577 0.03169772 0.         0.0042749\n",
      " 0.00368562 0.00223361 0.00518892 0.         0.         0.00257853\n",
      " 0.0537513  0.00229653 0.00743939 0.0025536  0.01413995 0.02129437\n",
      " 0.00705109 0.         0.00679077 0.01104252 0.00914868 0.\n",
      " 0.00166527 0.01134276 0.00581292 0.0054134  0.00436379 0.00258189\n",
      " 0.01652042 0.01894728 0.00537956 0.         0.01597444 0.00350954\n",
      " 0.00226347 0.         0.00338064 0.00796111 0.00296268 0.00195303\n",
      " 0.01960454 0.00791889 0.01766601 0.00526087 0.00741518 0.01168513\n",
      " 0.00637931 0.04821096 0.00249529 0.00618535 0.00251546 0.00208304\n",
      " 0.00203091 0.00712981 0.05529955 0.00389088 0.00188755 0.00178048\n",
      " 0.00332885 0.00422752 0.         0.00178742 0.00631744 0.00275008\n",
      " 0.00226727 0.00268615 0.00202514 0.0058879  0.00213431 0.00554734\n",
      " 0.05897383 0.0208995  0.01777794 0.01114541 0.00523676 0.00444858\n",
      " 0.00370283 0.02859808 0.02607032 0.         0.0151542  0.00712434\n",
      " 0.         0.00394966 0.00496242 0.0088121  0.00708333 0.00357103\n",
      " 0.00912435 0.00677121 0.03651819 0.00405944 0.04938021 0.00969826\n",
      " 0.00374396 0.00206489 0.01244232 0.00545878 0.00310584 0.\n",
      " 0.00401255 0.00225546 0.002163   0.00319647 0.0028333  0.00538084\n",
      " 0.03221429 0.00481494 0.         0.00282923 0.00166277 0.00613561\n",
      " 0.00685429 0.0032293  0.         0.00514231 0.         0.00145211\n",
      " 0.         0.00196318 0.00386446 0.04258175 0.00180342 0.00485093\n",
      " 0.00855156 0.01993505 0.01110826 0.00488208 0.00305452 0.00509101\n",
      " 0.00325684 0.01562525 0.0016928  0.00530941 0.04735374 0.00502274\n",
      " 0.01571388 0.         0.00487135 0.00308103 0.00379366 0.00617469\n",
      " 0.00697554 0.00351694 0.         0.00437934 0.0048263  0.00804851\n",
      " 0.00514221 0.00853302 0.         0.0068918  0.00211653 0.00256138\n",
      " 0.00865839 0.00475797 0.00242881 0.02847365 0.00208858 0.00825909\n",
      " 0.00397624 0.         0.00715654 0.00494918 0.02429183 0.00334095\n",
      " 0.00643114 0.         0.0029817  0.00801085 0.0048081  0.\n",
      " 0.14238743 0.07876761 0.00703518 0.00391682 0.03150651 0.00416899\n",
      " 0.00364916 0.         0.05777185 0.06384841 0.00162434 0.00559549\n",
      " 0.02213298 0.00434903]\n"
     ]
    }
   ],
   "source": [
    "similarity_scores = cosine_similarity(query_vector, X).flatten()\n",
    "print(\"Similarity scores:\", similarity_scores)"
   ]
  },
  {
   "cell_type": "code",
   "execution_count": 13,
   "id": "c938e94a",
   "metadata": {},
   "outputs": [
    {
     "name": "stdout",
     "output_type": "stream",
     "text": [
      "Top 5 article titles:\n",
      "- MIRB: Mathematical Information Retrieval Benchmark\n",
      "- WikiDBGraph: Large-Scale Database Graph of Wikidata for Collaborative Learning\n",
      "- SCENIR: Visual Semantic Clarity through Unsupervised Scene Graph Retrieval\n",
      "- HDLxGraph: Bridging Large Language Models and HDL Repositories via HDL Graph Databases\n",
      "- Explaining Neural Networks with Reasons\n"
     ]
    }
   ],
   "source": [
    "top_indices = similarity_scores.argsort()[::-1][:5]\n",
    "top_titles = articles.iloc[top_indices]['title']\n",
    "\n",
    "print(\"Top 5 article titles:\")\n",
    "for title in top_titles:\n",
    "    print(\"-\", title)"
   ]
  },
  {
   "cell_type": "markdown",
   "id": "1ed45785-5b64-4234-935a-2bb6e3636d5c",
   "metadata": {},
   "source": [
    "### Method 2: Using a Pretrained Embedding Model\n",
    "\n",
    "Now, let's compare how we do using the [all-MiniLM-L6-v2 embedding model](https://huggingface.co/sentence-transformers/all-MiniLM-L6-v2).\n",
    "\n",
    "This will create a 384-dimensional dense embedding of each sentence."
   ]
  },
  {
   "cell_type": "code",
   "execution_count": 14,
   "id": "c08b104a-2599-4f02-8bd0-147205f3ffe9",
   "metadata": {},
   "outputs": [],
   "source": [
    "embedder = SentenceTransformer('all-MiniLM-L6-v2')"
   ]
  },
  {
   "cell_type": "code",
   "execution_count": 15,
   "id": "369b82b2-a0a3-44be-b89b-097d72a53521",
   "metadata": {},
   "outputs": [
    {
     "name": "stdout",
     "output_type": "stream",
     "text": [
      "[[ 6.76568821e-02  6.34959117e-02  4.87131439e-02  7.93049559e-02\n",
      "   3.74480635e-02  2.65279901e-03  3.93749736e-02 -7.09847594e-03\n",
      "   5.93614466e-02  3.15370448e-02  6.00980595e-02 -5.29052205e-02\n",
      "   4.06067669e-02 -2.59308070e-02  2.98428256e-02  1.12692453e-03\n",
      "   7.35148787e-02 -5.03818952e-02 -1.22386634e-01  2.37028133e-02\n",
      "   2.97265332e-02  4.24768552e-02  2.56337691e-02  1.99518725e-03\n",
      "  -5.69191128e-02 -2.71598194e-02 -3.29035521e-02  6.60248771e-02\n",
      "   1.19007163e-01 -4.58791517e-02 -7.26214498e-02 -3.25840227e-02\n",
      "   5.23413569e-02  4.50553037e-02  8.25298857e-03  3.67024094e-02\n",
      "  -1.39415646e-02  6.53918535e-02 -2.64272671e-02  2.06397686e-04\n",
      "  -1.36643434e-02 -3.62810977e-02 -1.95043795e-02 -2.89738216e-02\n",
      "   3.94270122e-02 -8.84090662e-02  2.62427074e-03  1.36713488e-02\n",
      "   4.83062565e-02 -3.11566107e-02 -1.17329188e-01 -5.11690341e-02\n",
      "  -8.85288268e-02 -2.18962803e-02  1.42986607e-02  4.44167592e-02\n",
      "  -1.34814996e-02  7.43392557e-02  2.66383160e-02 -1.98762398e-02\n",
      "   1.79191250e-02 -1.06052058e-02 -9.04262587e-02  2.13269107e-02\n",
      "   1.41204849e-01 -6.47177268e-03 -1.40381162e-03 -1.53609626e-02\n",
      "  -8.73571411e-02  7.22174197e-02  2.01402809e-02  4.25587781e-02\n",
      "  -3.49014103e-02  3.19512386e-04 -8.02970603e-02 -3.27472650e-02\n",
      "   2.85268631e-02 -5.13657816e-02  1.09389164e-01  8.19327682e-02\n",
      "  -9.84040424e-02 -9.34095532e-02 -1.51292244e-02  4.51248437e-02\n",
      "   4.94171865e-02 -2.51867976e-02  1.57077052e-02 -1.29290715e-01\n",
      "   5.31890662e-03  4.02338477e-03 -2.34571584e-02 -6.72982410e-02\n",
      "   2.92280205e-02 -2.60845162e-02  1.30624939e-02 -3.11663095e-02\n",
      "  -4.82713357e-02 -5.58859631e-02 -3.87505218e-02  1.20010853e-01\n",
      "  -1.03924619e-02  4.89704870e-02  5.53537272e-02  4.49358821e-02\n",
      "  -4.00974229e-03 -1.02959752e-01 -2.92968899e-02 -5.83402514e-02\n",
      "   2.70472206e-02 -2.20168792e-02 -7.22241178e-02 -4.13869917e-02\n",
      "  -1.93298031e-02  2.73329043e-03  2.77012121e-04 -9.67588797e-02\n",
      "  -1.00574754e-01 -1.41923185e-02 -8.07891861e-02  4.53925095e-02\n",
      "   2.45042071e-02  5.97613826e-02 -7.38185421e-02  1.19843995e-02\n",
      "  -6.63403794e-02 -7.69045502e-02  3.85157764e-02 -5.59362183e-33\n",
      "   2.80013923e-02 -5.60784824e-02 -4.86601591e-02  2.15569139e-02\n",
      "   6.01980872e-02 -4.81402576e-02 -3.50247212e-02  1.93314161e-02\n",
      "  -1.75152160e-02 -3.89210619e-02 -3.81070049e-03 -1.70287676e-02\n",
      "   2.82099973e-02  1.28290951e-02  4.71600704e-02  6.21030293e-02\n",
      "  -6.43588752e-02  1.29285589e-01 -1.31231584e-02  5.23069091e-02\n",
      "  -3.73680778e-02  2.89094672e-02 -1.68981124e-02 -2.37330701e-02\n",
      "  -3.33491415e-02 -5.16762435e-02  1.55356834e-02  2.08802950e-02\n",
      "  -1.25372130e-02  4.59579006e-02  3.72719951e-02  2.80566886e-02\n",
      "  -5.90004697e-02 -1.16988299e-02  4.92182635e-02  4.70329225e-02\n",
      "   7.35487938e-02 -3.70529965e-02  3.98458401e-03  1.06411465e-02\n",
      "  -1.61505857e-04 -5.27166501e-02  2.75928043e-02 -3.92920971e-02\n",
      "   8.44717696e-02  4.86860722e-02 -4.85869637e-03  1.79948695e-02\n",
      "  -4.28569466e-02  1.23375226e-02  6.39950763e-03  4.04823236e-02\n",
      "   1.48887197e-02 -1.53941233e-02  7.62948170e-02  2.37043966e-02\n",
      "   4.45237160e-02  5.08195609e-02 -2.31256569e-03 -1.88737046e-02\n",
      "  -1.23335272e-02  4.66001667e-02 -5.63437976e-02  6.29927665e-02\n",
      "  -3.15535180e-02  3.24912444e-02  2.34673601e-02 -6.55438229e-02\n",
      "   2.01709364e-02  2.57082935e-02 -1.23869013e-02 -8.36488325e-03\n",
      "  -6.64377958e-02  9.43073630e-02 -3.57093364e-02 -3.42483260e-02\n",
      "  -6.66355947e-03 -8.01521912e-03 -3.09711546e-02  4.33012173e-02\n",
      "  -8.21401272e-03 -1.50795043e-01  3.07691935e-02  4.00719494e-02\n",
      "  -3.79293226e-02  1.93211960e-03  4.00530845e-02 -8.77074897e-02\n",
      "  -3.68491299e-02  8.57959222e-03 -3.19252126e-02 -1.25257969e-02\n",
      "   7.35540241e-02  1.34738965e-03  2.05918662e-02  2.71098091e-33\n",
      "  -5.18577062e-02  5.78361005e-02 -9.18984860e-02  3.94421443e-02\n",
      "   1.05576515e-01 -1.96912009e-02  6.18402362e-02 -7.63465166e-02\n",
      "   2.40880270e-02  9.40049514e-02 -1.16535418e-01  3.71198617e-02\n",
      "   5.22425212e-02 -3.95853212e-03  5.72214387e-02  5.32854116e-03\n",
      "   1.24016851e-01  1.39022358e-02 -1.10249668e-02  3.56053151e-02\n",
      "  -3.30754369e-02  8.16574246e-02 -1.52003700e-02  6.05585463e-02\n",
      "  -6.01397641e-02  3.26102376e-02 -3.48296650e-02 -1.69881675e-02\n",
      "  -9.74907354e-02 -2.71484405e-02  1.74707524e-03 -7.68982545e-02\n",
      "  -4.31857966e-02 -1.89984906e-02 -2.91661099e-02  5.77488318e-02\n",
      "   2.41821483e-02 -1.16902115e-02 -6.21435270e-02  2.84351762e-02\n",
      "  -2.37522239e-04 -2.51783505e-02  4.39638412e-03  8.12839866e-02\n",
      "   3.64184082e-02 -6.04006499e-02 -3.65516730e-02 -7.93748349e-02\n",
      "  -5.08527132e-03  6.69698790e-02 -1.17784359e-01  3.23743448e-02\n",
      "  -4.71253060e-02 -1.34459333e-02 -9.48445052e-02  8.24958365e-03\n",
      "  -1.06748929e-02 -6.81881458e-02  1.11821061e-03  2.48020198e-02\n",
      "  -6.35889396e-02  2.84492914e-02 -2.61303820e-02  8.58111680e-02\n",
      "   1.14682287e-01 -5.35345599e-02 -5.63588366e-02  4.26008925e-02\n",
      "   1.09454431e-02  2.09578760e-02  1.00131154e-01  3.26050892e-02\n",
      "  -1.84208751e-01 -3.93208638e-02 -6.91455007e-02 -6.38105050e-02\n",
      "  -6.56386092e-02 -6.41252240e-03 -4.79612127e-02 -7.68133253e-02\n",
      "   2.95384582e-02 -2.29948293e-02  4.17036936e-02 -2.50048023e-02\n",
      "  -4.54503438e-03 -4.17136364e-02 -1.32289743e-02 -6.38357475e-02\n",
      "  -2.46471236e-03 -1.37337446e-02  1.68976970e-02 -6.30398095e-02\n",
      "   8.98880959e-02  4.18170653e-02 -1.85687412e-02 -1.80442203e-08\n",
      "  -1.67998094e-02 -3.21577340e-02  6.30383715e-02 -4.13091704e-02\n",
      "   4.44819182e-02  2.02466967e-03  6.29592687e-02 -5.17373811e-03\n",
      "  -1.00444257e-02 -3.05639878e-02  3.52672748e-02  5.58581576e-02\n",
      "  -4.67124507e-02  3.45102660e-02  3.29578109e-02  4.30114605e-02\n",
      "   2.94360574e-02 -3.03164106e-02 -1.71107929e-02  7.37484694e-02\n",
      "  -5.47909699e-02  2.77514905e-02  6.20170543e-03  1.58800315e-02\n",
      "   3.42978910e-02 -5.15750982e-03  2.35079546e-02  7.53135532e-02\n",
      "   1.92842856e-02  3.36197317e-02  5.09103388e-02  1.52497083e-01\n",
      "   1.64207797e-02  2.70528123e-02  3.75162363e-02  2.18552873e-02\n",
      "   5.66333868e-02 -3.95746529e-02  7.12313205e-02 -5.41377328e-02\n",
      "   1.03764469e-03  2.11853106e-02 -3.56309265e-02  1.09016955e-01\n",
      "   2.76535098e-03  3.13997231e-02  1.38419773e-03 -3.45738642e-02\n",
      "  -4.59277555e-02  2.88083088e-02  7.16903480e-03  4.84684743e-02\n",
      "   2.61018202e-02 -9.44072474e-03  2.82169897e-02  3.48724052e-02\n",
      "   3.69098783e-02 -8.58949218e-03 -3.53205465e-02 -2.47856919e-02\n",
      "  -1.91921555e-02  3.80707271e-02  5.99653646e-02 -4.22287174e-02]\n",
      " [ 8.64385962e-02  1.02762640e-01  5.39455563e-03  2.04442022e-03\n",
      "  -9.96338576e-03  2.53855139e-02  4.92875837e-02 -3.06265727e-02\n",
      "   6.87254742e-02  1.01365978e-02  7.75397643e-02 -9.00807083e-02\n",
      "   6.10621599e-03 -5.69898747e-02  1.41714308e-02  2.80491672e-02\n",
      "  -8.68464932e-02  7.64398798e-02 -1.03491299e-01 -6.77437708e-02\n",
      "   6.99946508e-02  8.44251141e-02 -7.24914856e-03  1.04770381e-02\n",
      "   1.34020550e-02  6.77576661e-02 -9.42086205e-02 -3.71689871e-02\n",
      "   5.22617474e-02 -3.10853459e-02 -9.63406861e-02  1.57717038e-02\n",
      "   2.57866848e-02  7.85245001e-02  7.89949447e-02  1.91516057e-02\n",
      "   1.64356641e-02  3.10084829e-03  3.81311364e-02  2.37090625e-02\n",
      "   1.05389506e-02 -4.40645479e-02  4.41738591e-02 -2.58728005e-02\n",
      "   6.15378581e-02 -4.05427665e-02 -8.64140093e-02  3.19722481e-02\n",
      "  -8.90666444e-04 -2.44437028e-02 -9.19721574e-02  2.33939458e-02\n",
      "  -8.30293596e-02  4.41510379e-02 -2.49692630e-02  6.23019971e-02\n",
      "  -1.30356452e-03  7.51395375e-02  2.46384759e-02 -6.47244602e-02\n",
      "  -1.17727757e-01  3.83392163e-02 -9.11767408e-02  6.35446236e-02\n",
      "   7.62739778e-02 -8.80240798e-02  9.54558980e-03 -4.69717458e-02\n",
      "  -8.41740593e-02  3.88823971e-02 -1.14393532e-01  6.28856663e-03\n",
      "  -3.49361934e-02  2.39750445e-02 -3.31317112e-02 -1.57243852e-02\n",
      "  -3.78955565e-02 -8.81250110e-03  7.06118867e-02  3.28066200e-02\n",
      "   2.03669094e-03 -1.12278976e-01  6.79721544e-03  1.22765694e-02\n",
      "   3.35303545e-02 -1.36200720e-02 -2.25489996e-02 -2.25229245e-02\n",
      "  -2.03194916e-02  5.04297279e-02 -7.48652741e-02 -8.22822228e-02\n",
      "   7.65962824e-02  4.93392274e-02 -3.75553221e-02  1.44634591e-02\n",
      "  -5.72457798e-02 -1.79954451e-02  1.09697938e-01  1.19462803e-01\n",
      "   8.09239573e-04  6.17057420e-02  3.26322094e-02 -1.30780071e-01\n",
      "  -1.48636639e-01 -6.16232716e-02  4.33885828e-02  2.67129187e-02\n",
      "   1.39785931e-02 -3.94002497e-02 -2.52711866e-02  3.87740647e-03\n",
      "   3.58664729e-02 -6.15420491e-02  3.76660489e-02  2.67565325e-02\n",
      "  -3.82659733e-02 -3.54793221e-02 -2.39227246e-02  8.67977142e-02\n",
      "  -1.84063129e-02  7.71039277e-02  1.39862252e-03  7.00382814e-02\n",
      "  -4.77877744e-02 -7.89820030e-02  5.10814413e-02 -2.99868333e-33\n",
      "  -3.91645916e-02 -2.56211474e-03  1.65210571e-02  9.48940776e-03\n",
      "  -5.66219166e-02  6.57783374e-02 -4.77002785e-02  1.11662149e-02\n",
      "  -5.73558398e-02 -9.16259363e-03 -2.17521265e-02 -5.59531823e-02\n",
      "  -1.11422949e-02  9.32793245e-02  1.66765265e-02 -1.36723565e-02\n",
      "   4.34388742e-02  1.87245233e-03  7.29948143e-03  5.16331792e-02\n",
      "   4.80608493e-02  1.35341465e-01 -1.71738788e-02 -1.29698329e-02\n",
      "  -7.50109628e-02  2.61107739e-02  2.69802380e-02  7.83041876e-04\n",
      "  -4.87270094e-02  1.17842834e-02 -4.59580496e-02 -4.83213328e-02\n",
      "  -1.95671152e-02  1.93889327e-02  1.98807418e-02  1.67432502e-02\n",
      "   9.87801254e-02 -2.74087712e-02  2.34809034e-02  3.70231457e-03\n",
      "  -6.14514723e-02 -1.21228199e-03 -9.50475689e-03  9.25154053e-03\n",
      "   2.38443874e-02  8.61232057e-02  2.26789862e-02  5.45142510e-04\n",
      "   3.47129516e-02  6.25466509e-03 -6.92775566e-03  3.92400175e-02\n",
      "   1.15675014e-02  3.26280035e-02  6.22155443e-02  2.76114531e-02\n",
      "   1.86883267e-02  3.55805904e-02  4.11795676e-02  1.54782301e-02\n",
      "   4.22691442e-02  3.82248461e-02  1.00313257e-02 -2.83245929e-02\n",
      "   4.47052307e-02 -4.10458632e-02 -4.50551789e-03 -5.44734113e-02\n",
      "   2.62321010e-02  1.79862399e-02 -1.23118743e-01 -4.66952026e-02\n",
      "  -1.35913072e-02  6.46710768e-02  3.57345422e-03 -1.22233620e-02\n",
      "  -1.79382227e-02 -2.55502034e-02  2.37223785e-02  4.08667186e-03\n",
      "  -6.51475936e-02  4.43651602e-02  4.68595773e-02 -3.25174630e-02\n",
      "   4.02272446e-03 -3.97602236e-03  1.11939488e-02 -9.95597839e-02\n",
      "   3.33168544e-02  8.01061392e-02  9.42691863e-02 -6.38293922e-02\n",
      "   3.23151648e-02 -5.13553135e-02 -7.49881379e-03  5.30049734e-34\n",
      "  -4.13194969e-02  9.49646980e-02 -1.06401429e-01  4.96590920e-02\n",
      "  -3.41913216e-02 -3.16745639e-02 -1.71555858e-02  1.70102087e-03\n",
      "   5.79757802e-02 -1.21777621e-03 -1.68536026e-02 -5.16912341e-02\n",
      "   5.52998893e-02 -3.42647843e-02  3.08179352e-02 -3.10480911e-02\n",
      "   9.27532539e-02  3.72663289e-02 -2.37398297e-02  4.45893891e-02\n",
      "   1.46153271e-02  1.16239354e-01 -5.00112846e-02  3.88716571e-02\n",
      "   4.24747914e-03  2.56976765e-02  3.27243656e-02  4.29907367e-02\n",
      "  -1.36144655e-02  2.56122276e-02  1.06262648e-02 -8.46863538e-02\n",
      "  -9.52982381e-02  1.08399875e-01 -7.51599744e-02 -1.37773519e-02\n",
      "   6.37338310e-02 -4.49671224e-03 -3.25321369e-02  6.23613931e-02\n",
      "   3.48053426e-02 -3.54922488e-02 -2.00222433e-02  3.66608389e-02\n",
      "  -2.48837043e-02  1.01818340e-02 -7.01233223e-02 -4.31951284e-02\n",
      "   2.95332558e-02 -2.94936064e-04 -3.45386937e-02  1.46675920e-02\n",
      "  -9.83970240e-02 -4.70488258e-02 -8.85495543e-03 -8.89913812e-02\n",
      "   3.50996107e-02 -1.29601970e-01 -4.98865917e-02 -6.12047315e-02\n",
      "  -5.97797409e-02  9.46318824e-03  4.91217673e-02 -7.75026679e-02\n",
      "   8.09727311e-02 -4.79257591e-02  2.34377990e-03  7.57031515e-02\n",
      "  -2.40175836e-02 -1.52546065e-02  4.86738533e-02 -3.85968313e-02\n",
      "  -7.04831630e-02 -1.20348074e-02 -3.88790779e-02 -7.76016638e-02\n",
      "  -1.07243871e-02  1.04188360e-02 -2.13753767e-02 -9.17386189e-02\n",
      "  -1.11345146e-02 -2.96065882e-02  2.46458109e-02  4.65713628e-03\n",
      "  -1.63449794e-02 -3.95219512e-02  7.73373693e-02 -2.84732785e-02\n",
      "  -3.69938067e-03  8.27665254e-02 -1.10408925e-02  3.13983336e-02\n",
      "   5.35094738e-02  5.75145930e-02 -3.17622237e-02 -1.52911266e-08\n",
      "  -7.99661204e-02 -4.76797186e-02 -8.59788507e-02  5.69616482e-02\n",
      "  -4.08866331e-02  2.23832466e-02 -4.64445865e-03 -3.80130783e-02\n",
      "  -3.10671106e-02 -1.07278014e-02  1.97698809e-02  7.77001306e-03\n",
      "  -6.09476073e-03 -3.86376120e-02  2.80271824e-02  6.78137690e-02\n",
      "  -2.35351678e-02  3.21747586e-02  8.02536029e-03 -2.39107311e-02\n",
      "  -1.21994514e-03  3.14598940e-02 -5.24923950e-02 -8.06813315e-03\n",
      "   3.14771244e-03  5.11496328e-02 -4.44104336e-02  6.36013001e-02\n",
      "   3.85083668e-02  3.30433063e-02 -4.18727705e-03  4.95592766e-02\n",
      "  -5.69605157e-02 -6.49713958e-03 -2.49793120e-02 -1.60867088e-02\n",
      "   6.62289709e-02 -2.06310768e-02  1.08045742e-01  1.68547034e-02\n",
      "   1.43812597e-02 -1.32127320e-02 -1.29387394e-01  6.95216432e-02\n",
      "  -5.55772893e-02 -6.75413162e-02 -5.45819197e-03 -6.13593776e-03\n",
      "   3.90840508e-02 -6.28779382e-02  3.74063514e-02 -1.16570871e-02\n",
      "   1.29150450e-02 -5.52495420e-02  5.16076051e-02 -4.30841651e-03\n",
      "   5.80247901e-02  1.86944753e-02  2.27810368e-02  3.21665145e-02\n",
      "   5.37979044e-02  7.02849105e-02  7.49312118e-02 -8.41774866e-02]]\n"
     ]
    }
   ],
   "source": [
    "sentences = [\"This is an example sentence\", \"Each sentence is converted\"]\n",
    "\n",
    "embeddings = embedder.encode(sentences)\n",
    "print(embeddings)"
   ]
  },
  {
   "cell_type": "markdown",
   "id": "cf339d4b-23e6-4034-84bf-7198135f758a",
   "metadata": {},
   "source": [
    "Use this new embedder to vectorize the abstracts and then find the most similar to the query. How do the results compare to the other methods?\n",
    "\n",
    "**Warning:** Creating embeddings for all of the articles may take a while."
   ]
  },
  {
   "cell_type": "code",
   "execution_count": 16,
   "id": "ceb666a0-11b3-42fb-b4d0-2e9b5d83dcf0",
   "metadata": {},
   "outputs": [],
   "source": [
    "abstract_embeddings = embedder.encode(articles['abstract'].tolist())\n"
   ]
  },
  {
   "cell_type": "code",
   "execution_count": 17,
   "id": "8e1b4695",
   "metadata": {},
   "outputs": [
    {
     "name": "stdout",
     "output_type": "stream",
     "text": [
      "query embeddings [[-3.84719446e-02 -4.03677672e-02 -5.39208725e-02  4.15326916e-02\n",
      "  -1.29077118e-02  2.70722639e-02  3.42489257e-02 -4.00642268e-02\n",
      "  -4.13630418e-02 -2.66212467e-02  2.50468273e-02 -3.20716086e-03\n",
      "   8.27724412e-02 -4.28548418e-02 -6.03753850e-02  3.29218134e-02\n",
      "   2.27026939e-02  7.41225034e-02  5.59455566e-02 -2.97653768e-02\n",
      "  -3.94970849e-02  4.32495959e-02  1.92625634e-02 -2.07796842e-02\n",
      "   3.18871737e-02  1.39019201e-02  3.14147137e-02 -4.15339582e-02\n",
      "   7.32684806e-02 -5.43152578e-02  3.72031070e-02  1.11246176e-01\n",
      "  -4.10853103e-02  8.41100961e-02 -6.84786811e-02  3.51947509e-02\n",
      "  -8.79902691e-02  9.79631692e-02 -3.46180759e-02 -1.90933738e-02\n",
      "  -6.27434403e-02  5.79465143e-02  2.31922474e-02  2.95088869e-02\n",
      "   7.42464140e-02  3.73492949e-03 -1.03116602e-01 -8.04822892e-03\n",
      "   1.59991551e-02  4.23684753e-02 -8.15261900e-02  5.80240181e-03\n",
      "  -2.97683235e-02 -2.58239619e-02  1.33035379e-02  2.49278303e-02\n",
      "  -5.13842748e-03 -4.85661477e-02 -3.61686014e-02 -4.50922735e-02\n",
      "  -2.75978278e-02 -1.42448276e-01 -1.60430856e-02 -6.40367568e-02\n",
      "   8.58055020e-04  8.71116936e-05  3.65667045e-02  5.93798049e-02\n",
      "   2.59407563e-03 -3.16640325e-02 -1.09291680e-01  4.01223078e-03\n",
      "  -7.28864819e-02  6.70715123e-02 -6.98550837e-03  1.51238486e-01\n",
      "   1.31903375e-02 -5.61382398e-02  2.60458402e-02 -3.54791433e-03\n",
      "  -3.50712538e-02 -3.99584062e-02  1.35234138e-02 -1.93635728e-02\n",
      "   6.68567941e-02 -2.40314449e-03  7.87030682e-02 -1.40209366e-02\n",
      "   6.57688528e-02  3.42009515e-02 -1.71924587e-02  1.04562910e-02\n",
      "   7.49980733e-02 -1.30264340e-02 -1.39111222e-03 -1.84013452e-02\n",
      "   1.43835202e-01 -2.72863768e-02  7.52431080e-02  3.98356728e-02\n",
      "   7.75883943e-02  7.15058371e-02  3.53746139e-03  2.97371601e-03\n",
      "  -7.81144276e-02 -8.47683847e-03  2.69935597e-02  1.96647365e-02\n",
      "   2.68003959e-02 -8.95788297e-02 -4.13244888e-02  1.61600336e-02\n",
      "  -1.21617997e-02 -1.18473895e-01  6.26216689e-03 -2.83029694e-02\n",
      "  -2.98437625e-02 -5.37748262e-02  6.56917393e-02 -9.12607461e-02\n",
      "  -1.35146342e-02  1.99121740e-02  6.76995749e-03  4.67917323e-02\n",
      "  -6.13587350e-02 -2.56231464e-02 -2.78318301e-02 -2.19999774e-33\n",
      "  -7.01411534e-03 -8.06454290e-03  1.83420256e-02  7.77045935e-02\n",
      "   2.96488078e-03  1.51189156e-02  7.40804076e-02  3.26406211e-02\n",
      "  -1.37263173e-02 -6.03792928e-02 -1.00428447e-01  9.59059671e-02\n",
      "  -2.41033938e-02  9.65774730e-02  9.18104649e-02  7.59930350e-04\n",
      "   1.20859202e-02  6.19824827e-02 -2.85931509e-02 -2.89591961e-03\n",
      "   3.37542929e-02 -2.04721354e-02  1.35738971e-02 -6.52195560e-03\n",
      "   5.75525686e-02 -2.11060531e-02 -1.00022247e-02 -5.36667444e-02\n",
      "  -7.18451962e-02 -2.09215507e-02 -6.80897012e-02 -2.69855391e-02\n",
      "   1.52984941e-02  3.80060598e-02 -8.63047503e-03  2.82838643e-02\n",
      "   4.77596708e-02 -1.41775245e-02 -1.09460112e-02  1.37777049e-02\n",
      "   1.98347028e-02  1.55092701e-02  8.83493349e-02 -5.12593389e-02\n",
      "  -8.38312060e-02  2.17342544e-02 -1.64225027e-02  3.60512063e-02\n",
      "  -1.31126456e-02 -4.65259738e-02  1.95606500e-02  6.98897988e-02\n",
      "  -9.73874629e-02 -2.21733805e-02  8.95297974e-02  3.52087170e-02\n",
      "  -3.52706872e-02  6.86240047e-02  3.67162563e-02  8.12658817e-02\n",
      "  -9.81630012e-03  7.51266330e-02  8.02542493e-02 -1.74902119e-02\n",
      "  -6.97014779e-02  4.35809605e-03  4.97261807e-02  6.74002571e-03\n",
      "   1.56981826e-01  4.47607078e-02 -1.16267083e-02 -2.54759025e-02\n",
      "   3.12804915e-02 -1.17481761e-01  5.36296852e-02 -1.11528467e-02\n",
      "  -3.95377763e-02 -7.22873062e-02  7.28196246e-05 -4.07718075e-03\n",
      "  -5.42097688e-02 -3.40799317e-02 -2.93500535e-02 -2.05710120e-02\n",
      "   4.76910397e-02 -8.06837752e-02  1.10219028e-02 -1.24971777e-01\n",
      "  -2.23355927e-02 -3.59275676e-02 -1.03164194e-02  5.37216961e-02\n",
      "  -2.81591993e-02  1.18945427e-02  3.54131404e-03  1.25599909e-33\n",
      "  -1.10468632e-02 -3.61477025e-02  1.36268390e-02 -2.14412156e-02\n",
      "   3.98915727e-03 -2.59888396e-02 -3.45989093e-02 -5.11894561e-02\n",
      "  -8.57691616e-02 -6.62660450e-02 -3.51669416e-02 -6.20873161e-02\n",
      "   2.22311318e-02 -3.42383645e-02 -1.86122749e-02  6.72365502e-02\n",
      "  -4.85005341e-02 -5.84888868e-02 -5.24589792e-02  6.29972741e-02\n",
      "  -3.08063645e-02  3.67628485e-02 -3.38030271e-02 -5.87050384e-03\n",
      "   2.72288248e-02  8.19776114e-03  5.00284135e-02 -5.08289598e-02\n",
      "  -3.50677744e-02 -1.39119215e-02  1.90060083e-02 -5.51525503e-02\n",
      "   4.78316993e-02  2.95754243e-02 -4.24857549e-02 -3.35397348e-02\n",
      "   3.41025814e-02 -2.67382637e-02 -1.69536453e-02  9.73494574e-02\n",
      "  -3.15083042e-02  5.68679832e-02  4.54195513e-04  5.63477539e-02\n",
      "  -1.45682413e-02  2.02642847e-02 -8.14905986e-02  9.26101357e-02\n",
      "   8.14210176e-02 -1.47941359e-03  4.15936895e-02  1.72416419e-02\n",
      "  -4.39946391e-02 -1.89359561e-02  3.73931192e-02 -7.78003484e-02\n",
      "  -8.59880820e-02 -5.90193644e-02  6.86845407e-02  2.27265526e-02\n",
      "  -2.19427310e-02 -4.71024029e-02  4.72514983e-03 -1.85053647e-02\n",
      "   6.86384737e-02 -3.14734466e-02 -4.67115380e-02  8.94109253e-03\n",
      "  -1.17902383e-01  1.17592514e-02  4.78154160e-02  2.44972319e-03\n",
      "   4.79825735e-02 -1.70893982e-04  8.02192539e-02  1.08425338e-02\n",
      "   3.15092802e-02  4.09390293e-02  3.56989205e-02 -6.35195822e-02\n",
      "  -8.84641409e-02  7.66198412e-02  7.54658952e-02  1.21378288e-01\n",
      "  -9.77077261e-02  2.49596816e-02  1.53220398e-02  1.43487230e-02\n",
      "   5.15057123e-04  8.67100712e-03 -1.66392084e-02  3.01878192e-02\n",
      "  -3.21725085e-02  6.75471425e-02  5.98533787e-02 -1.30667210e-08\n",
      "  -8.69855881e-02  2.27944832e-02 -6.66160434e-02  3.52671440e-03\n",
      "   7.78584257e-02  2.27682702e-02 -5.83322160e-02  6.17999658e-02\n",
      "  -7.13974684e-02 -3.56106944e-02 -1.00701060e-02 -5.16702496e-02\n",
      "  -4.52960953e-02  1.28985858e-02  5.52043319e-02 -5.24817267e-03\n",
      "   3.90968099e-02  5.24196811e-02  4.69152536e-03 -1.24320006e-02\n",
      "   1.17812175e-02  1.13640219e-01  1.28780706e-02  3.56070809e-02\n",
      "   3.40256505e-02  3.35153230e-02 -2.06243079e-02  2.48625944e-03\n",
      "   1.62173450e-01 -3.12907845e-02  4.20995019e-02  1.61359534e-02\n",
      "   4.29511890e-02 -4.54648845e-02  8.74383822e-02  2.06890032e-02\n",
      "  -2.68713012e-02 -4.67252508e-02 -7.50790387e-02 -4.13475148e-02\n",
      "   2.18463298e-02  1.30738001e-02 -1.07931690e-02 -1.71916634e-02\n",
      "   3.46813397e-03 -1.81718636e-02  2.11273059e-02 -8.34088996e-02\n",
      "  -1.02107925e-02 -5.11430800e-02 -7.81387985e-02 -1.18205883e-01\n",
      "   2.68539339e-02  5.05665354e-02  6.56082928e-02  1.11360420e-02\n",
      "  -2.34555788e-02 -2.64318078e-04  8.63506123e-02 -4.75710817e-02\n",
      "   2.26980690e-02  1.51873408e-02 -4.95802201e-02  4.33364920e-02]]\n",
      "Similarity scores: [ 0.36414123  0.3471961   0.28515977  0.14836836  0.22781089  0.2161372\n",
      "  0.11827049  0.05126014  0.13197888  0.12269203  0.13314843  0.15747447\n",
      "  0.33390462  0.22433217  0.19266377  0.24028087  0.29879916  0.23173091\n",
      "  0.3645686   0.14169475  0.04288222  0.14464852  0.30868837  0.08728815\n",
      "  0.2802019   0.05841699  0.2497716   0.3073679   0.08155138  0.05704202\n",
      "  0.31172594  0.21976447  0.27524284  0.36433688  0.25030285  0.14283276\n",
      "  0.337392    0.10999398  0.30117548  0.11831081  0.30312422  0.1543813\n",
      "  0.17478913  0.19709572  0.13530642  0.21220252  0.27164048  0.16174898\n",
      "  0.15699531  0.2148065   0.3069744   0.20112254  0.15328212  0.1726698\n",
      "  0.2728547   0.26540112  0.18868986  0.30710304  0.0991488   0.21948701\n",
      "  0.11025912  0.16885233  0.25034273  0.1526249   0.318937    0.09163927\n",
      "  0.18296155  0.15615004  0.02992451  0.13144195  0.30069202  0.16835648\n",
      "  0.22896165  0.23506665  0.26995724  0.08483716  0.08825308  0.1949214\n",
      "  0.17278087  0.13929445  0.01499655  0.3098285   0.18333791  0.33542782\n",
      "  0.24535498  0.29807848  0.21464051  0.10450694  0.13414547  0.20210001\n",
      "  0.17016642  0.17844747  0.14292373  0.27441347  0.359925    0.34542075\n",
      "  0.19258979  0.22681877  0.08719154  0.24028268  0.3307409   0.12994723\n",
      "  0.20198116  0.12986806  0.22192207  0.21636842  0.22591119  0.4554736\n",
      "  0.23015954  0.3206178   0.0593597   0.23193206  0.21356945  0.32476383\n",
      "  0.35240164  0.27182782  0.18411967  0.27745563  0.21800378  0.12136264\n",
      "  0.09844378  0.20245118  0.2786811   0.19104949  0.13304833  0.29724294\n",
      "  0.31044745  0.26890534  0.12557656  0.11807434  0.3056838   0.15137345\n",
      "  0.31625113  0.23271576  0.139388    0.00112832  0.21192646  0.31544212\n",
      "  0.3253452   0.02242193  0.09529231  0.05131308  0.19187507  0.07950632\n",
      "  0.19219506  0.10637022  0.28848284  0.23913828  0.14356959  0.29201835\n",
      " -0.00701485  0.29788035  0.06687619  0.00510538  0.1877173   0.0808594\n",
      "  0.18578489  0.16031836  0.28033215  0.28328782  0.2288393   0.10172166\n",
      "  0.1359896   0.37862995  0.10634803  0.2143207   0.24512324  0.11216184\n",
      "  0.28729796  0.12656152  0.31750447  0.09671578  0.1030242   0.13931134\n",
      "  0.18980375  0.3494575   0.11718145  0.19263798  0.2710716   0.24413657\n",
      "  0.2755607   0.24167368  0.12747101  0.287808    0.22844929  0.21187489\n",
      "  0.15048714  0.13522235  0.25988817  0.1790894   0.19420874  0.2695794\n",
      "  0.15349244  0.24291842  0.10532674  0.14269143  0.03265523  0.19188741\n",
      "  0.30625072  0.2424766   0.12538321  0.08627088  0.1912103   0.25507113\n",
      "  0.26339835  0.1675103   0.1756461   0.21743491  0.15473405  0.43434602\n",
      "  0.08302224  0.02616555  0.16132814  0.20016003  0.24176475  0.24500468\n",
      "  0.18603039  0.3648167   0.23175591  0.14637144  0.12555113  0.3600501\n",
      "  0.31336457  0.20366819  0.24245472  0.20520827  0.22364996  0.19644822\n",
      "  0.14805861  0.26033646  0.19740647  0.16862522  0.22951333  0.45146096\n",
      "  0.28912953  0.15117076  0.23494548  0.26470587  0.29995996  0.13783008\n",
      "  0.22724602  0.16561663  0.14603132  0.1661632   0.13389954  0.21053901\n",
      "  0.23820849  0.41446644  0.33211786  0.35946113  0.15212631  0.20617288\n",
      "  0.21672027  0.28006762  0.04853293  0.27208275  0.10022888  0.0155688\n",
      "  0.1780495   0.4781704   0.3373122   0.24872637  0.345739    0.0476551\n",
      "  0.14207767  0.25130415  0.19953263  0.20259067  0.10493916  0.11366822\n",
      "  0.3466192   0.22723214  0.10325237  0.324444    0.2688748   0.27966118\n",
      "  0.24292855  0.10766046  0.2146275   0.00730142  0.14709085  0.16898376\n",
      "  0.15863773  0.05597851  0.32008106  0.24599665  0.12367187  0.13590619\n",
      "  0.1498171   0.2647642   0.23260702  0.2343247   0.19637467  0.16370358\n",
      "  0.19449815  0.12025246  0.07548229  0.24913973  0.2003355   0.17603534\n",
      "  0.18891849  0.276865    0.17378429  0.17918333  0.19848329  0.25818896\n",
      "  0.21635386  0.17067318  0.31080323  0.15876563  0.0902959   0.23499802\n",
      "  0.17831032  0.29385924  0.12872455  0.32436115  0.11760212  0.18504095\n",
      "  0.16795865  0.20495722  0.23253319  0.15370482  0.08873212  0.17884743\n",
      "  0.19677153  0.07457025  0.16240686  0.178348    0.10009888  0.17584419\n",
      "  0.21927372  0.19515729  0.1980888   0.24580494  0.26106542  0.17664608\n",
      "  0.09682671  0.23577528  0.13881296  0.07200277  0.08775727  0.15100968\n",
      "  0.27132112  0.36702263  0.215033    0.25402033  0.32693738  0.14464962\n",
      "  0.14011762  0.29892325  0.15212922  0.16233039  0.20299447  0.28794736\n",
      "  0.21704872  0.21739092  0.26483265  0.34155512  0.18658414  0.15483141\n",
      "  0.09027933  0.2952439   0.3456412   0.2098805   0.2681185   0.2546376\n",
      "  0.03507231  0.11830392  0.2500497   0.20440188  0.04918067  0.13834548\n",
      "  0.31475025  0.10322453  0.15324864  0.21777421  0.15615134  0.2055226\n",
      "  0.18803388  0.24949853  0.331926    0.24899255  0.20296767  0.10750952\n",
      "  0.30516666  0.2537313   0.33822936  0.20302773  0.08348884  0.17624304\n",
      "  0.14535983  0.17772871  0.04822807  0.33958584  0.17377514  0.15235895\n",
      "  0.2606353   0.07989153  0.15101688  0.17779192  0.16310741  0.01313279\n",
      "  0.10104612  0.21716839  0.2575559   0.19557771  0.28488302  0.25695276\n",
      "  0.21742621  0.24866018  0.11977167  0.14631112  0.29961738  0.15163855\n",
      "  0.10070118  0.10120189  0.22558084  0.12149826  0.31082126  0.14530417\n",
      "  0.38500398  0.12995073  0.22327021  0.33154753  0.10456848  0.21990883\n",
      "  0.27063248  0.2340436   0.00830474  0.13954473  0.18914989  0.22355938\n",
      "  0.09333542  0.12110715  0.08416027  0.3662681   0.2310287   0.16063082\n",
      "  0.2881764   0.30879307  0.17295289  0.1844154   0.2397075   0.10677046\n",
      "  0.17084575  0.141076    0.20118856  0.06780962  0.2133913   0.18942387\n",
      "  0.23733896  0.06947395  0.11596008  0.18129292  0.24907067  0.11561272\n",
      "  0.11704191  0.25630498  0.10461372  0.26098287  0.33416724  0.2833166\n",
      "  0.15631692  0.34705234  0.1415561   0.05020115  0.09499846  0.22511855\n",
      "  0.16764714  0.1459178   0.15346766  0.24008964  0.10962394  0.18367286\n",
      "  0.17193964  0.12792173  0.07284274  0.3354025   0.2813209   0.15005893\n",
      "  0.16226378  0.10739407  0.09901121  0.05334535  0.19383457  0.10526174\n",
      "  0.18291068  0.14896077  0.27706563  0.3735184   0.3938715   0.22554219\n",
      "  0.10003553  0.26167762  0.40710932  0.35912794  0.11359322  0.11708694\n",
      "  0.19866592  0.30428764]\n"
     ]
    }
   ],
   "source": [
    "query_embedding = embedder.encode([query])\n",
    "similarity_scores = cosine_similarity(query_embedding, abstract_embeddings).flatten()\n",
    "print(\"query embeddings\", query_embedding)\n",
    "print(\"Similarity scores:\", similarity_scores)"
   ]
  },
  {
   "cell_type": "markdown",
   "id": "4f8dec64-2aa7-40af-adfd-230c19671593",
   "metadata": {},
   "source": [
    "### FAISS\n",
    "\n",
    "The [Faiss library](https://faiss.ai/index.html) is a library for efficient similarity search and clustering of dense vectors. It can be used to automate the process of finding the most similar abstracts.\n",
    "\n",
    "If we want to use cosine similarity, we need to use the Inner Product. We also need to normalize our vectors so that they all have length 1.\n",
    "\n",
    "Use the [normalize function](https://scikit-learn.org/stable/modules/generated/sklearn.preprocessing.normalize.html) to normalize both the abstract vectors and the query vector."
   ]
  },
  {
   "cell_type": "code",
   "execution_count": 18,
   "id": "9e5225fb-e429-4337-92f4-9cdb2468ce78",
   "metadata": {},
   "outputs": [],
   "source": [
    "abstract_embeddings = normalize(abstract_embeddings, norm='l2', axis=1)\n",
    "query_embedding = normalize(query_embedding, norm='l2', axis=1) "
   ]
  },
  {
   "cell_type": "markdown",
   "id": "393bb61e-471a-4660-99d7-e3e513d34098",
   "metadata": {},
   "source": [
    "Now, create an [IndexFlatIP object](https://github.com/facebookresearch/faiss/wiki/Faiss-indexes#summary-of-methods) that has dimensions equal to the dimensionality of your vectors. Then add your normalized abstract vectors.\n",
    "\n",
    "Hint: You can mimic the example [here](https://github.com/facebookresearch/faiss/wiki/Getting-started#building-an-index-and-adding-the-vectors-to-it), but substitute in the IndexFlatIP class."
   ]
  },
  {
   "cell_type": "code",
   "execution_count": 19,
   "id": "18f7cc7f-8889-4b0c-8bd5-54c760ab4dfb",
   "metadata": {},
   "outputs": [],
   "source": [
    "index = faiss.IndexFlatIP(abstract_embeddings.shape[1])\n",
    "index.add(abstract_embeddings.astype(np.float32))"
   ]
  },
  {
   "cell_type": "markdown",
   "id": "b76e3f95-6f37-4918-800a-094314b9554a",
   "metadata": {},
   "source": [
    "Finally, use the [search function](https://github.com/facebookresearch/faiss/wiki/Getting-started#searching) on your index object to find the 5 most similar articles."
   ]
  },
  {
   "cell_type": "code",
   "execution_count": 22,
   "id": "f884c016-444b-4714-85fc-07a8cdaf2247",
   "metadata": {},
   "outputs": [
    {
     "name": "stdout",
     "output_type": "stream",
     "text": [
      "Top 5 most similar article titles:\n",
      "1. MIRB: Mathematical Information Retrieval Benchmark\n",
      "2. Attributing Response to Context: A Jensen-Shannon Divergence Driven Mechanistic Study of Context Attribution in Retrieval-Augmented Generation\n",
      "3. HDLxGraph: Bridging Large Language Models and HDL Repositories via HDL Graph Databases\n",
      "4. The Atlas of In-Context Learning: How Attention Heads Shape In-Context Retrieval Augmentation\n",
      "5. Distance Adaptive Beam Search for Provably Accurate Graph-Based Nearest Neighbor Search\n"
     ]
    }
   ],
   "source": [
    "k = 5\n",
    "distances, indices = index.search(query_embedding.astype(np.float32), k)\n",
    "print(\"Top 5 most similar article titles:\")\n",
    "for i in range(k):\n",
    "    idx = indices[0][i]\n",
    "    score = distances[0][i]\n",
    "    print(f\"{i+1}. {articles.iloc[idx]['title']}\")"
   ]
  }
 ],
 "metadata": {
  "kernelspec": {
   "display_name": "sentence_transformers",
   "language": "python",
   "name": "python3"
  },
  "language_info": {
   "codemirror_mode": {
    "name": "ipython",
    "version": 3
   },
   "file_extension": ".py",
   "mimetype": "text/x-python",
   "name": "python",
   "nbconvert_exporter": "python",
   "pygments_lexer": "ipython3",
   "version": "3.12.10"
  }
 },
 "nbformat": 4,
 "nbformat_minor": 5
}
